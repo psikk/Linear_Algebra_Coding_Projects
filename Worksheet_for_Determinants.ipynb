{
  "nbformat": 4,
  "nbformat_minor": 0,
  "metadata": {
    "colab": {
      "name": "Worksheet for Determinants.ipynb",
      "provenance": [],
      "authorship_tag": "ABX9TyPGVw0YK6Xkie0JaaHQMMYJ",
      "include_colab_link": true
    },
    "kernelspec": {
      "name": "python3",
      "display_name": "Python 3"
    },
    "language_info": {
      "name": "python"
    }
  },
  "cells": [
    {
      "cell_type": "markdown",
      "metadata": {
        "id": "view-in-github",
        "colab_type": "text"
      },
      "source": [
        "<a href=\"https://colab.research.google.com/github/psikk/Linear_Algebra_Coding_Projects/blob/main/Worksheet_for_Determinants.ipynb\" target=\"_parent\"><img src=\"https://colab.research.google.com/assets/colab-badge.svg\" alt=\"Open In Colab\"/></a>"
      ]
    },
    {
      "cell_type": "code",
      "metadata": {
        "id": "YWKATLm2Fp_w"
      },
      "source": [
        "import matplotlib.pyplot as plt\n",
        "from sympy import Poly\n",
        "import sympy as sym\n",
        "import numpy as np\n",
        "from numpy import c_\n",
        "\n",
        "# We'll specify that x and t are variables:\n",
        "x, t = sym.symbols('x, t')\n",
        "\n",
        "ll = \"loaded\""
      ],
      "execution_count": 1,
      "outputs": []
    },
    {
      "cell_type": "code",
      "metadata": {
        "id": "06ay522BF-z0"
      },
      "source": [
        "# create the matrix:\n",
        "A = np.matrix([[10, 7],\n",
        "               [8, 9]])\n",
        "\n",
        "B = np.matrix([[-10, -1],\n",
        "               [-4, 7]])\n",
        "\n",
        "C = np.matrix([[1, -3],\n",
        "               [7, 7]])\n"
      ],
      "execution_count": 18,
      "outputs": []
    },
    {
      "cell_type": "code",
      "metadata": {
        "colab": {
          "base_uri": "https://localhost:8080/"
        },
        "id": "wL_FFa8AGhh5",
        "outputId": "df44b430-24ba-44e0-bd50-52d56e0677a8"
      },
      "source": [
        "print(A*B)\n",
        "print(np.linalg.det(A*B))\n",
        "\n",
        "print(B*A)\n",
        "print(np.linalg.det(B*A))\n",
        "\n"
      ],
      "execution_count": 12,
      "outputs": [
        {
          "output_type": "stream",
          "text": [
            "[[-128   39]\n",
            " [-116   55]]\n",
            "-2515.999999999999\n",
            "[[-108  -79]\n",
            " [  16   35]]\n",
            "-2516.0000000000014\n"
          ],
          "name": "stdout"
        }
      ]
    },
    {
      "cell_type": "code",
      "metadata": {
        "colab": {
          "base_uri": "https://localhost:8080/"
        },
        "id": "8SS2nWa8HSLS",
        "outputId": "ef9b411a-a4b0-49ed-a078-377187ef885d"
      },
      "source": [
        "print(A*C)\n",
        "print(np.linalg.det(A*C))\n",
        "\n",
        "print(C*A)\n",
        "print(np.linalg.det(C*A))"
      ],
      "execution_count": 13,
      "outputs": [
        {
          "output_type": "stream",
          "text": [
            "[[59 19]\n",
            " [71 39]]\n",
            "951.9999999999997\n",
            "[[-14 -20]\n",
            " [126 112]]\n",
            "951.9999999999997\n"
          ],
          "name": "stdout"
        }
      ]
    },
    {
      "cell_type": "code",
      "metadata": {
        "colab": {
          "base_uri": "https://localhost:8080/"
        },
        "id": "hd36KbRGHkgi",
        "outputId": "3a9c050e-017c-49a5-ba9b-79b72a852581"
      },
      "source": [
        "print(B*C)\n",
        "print(np.linalg.det(B*C))\n",
        "\n",
        "print(C*B)\n",
        "print(np.linalg.det(C*B))"
      ],
      "execution_count": 14,
      "outputs": [
        {
          "output_type": "stream",
          "text": [
            "[[-17  23]\n",
            " [ 45  61]]\n",
            "-2071.9999999999995\n",
            "[[  2 -22]\n",
            " [-98  42]]\n",
            "-2071.9999999999995\n"
          ],
          "name": "stdout"
        }
      ]
    },
    {
      "cell_type": "code",
      "metadata": {
        "colab": {
          "base_uri": "https://localhost:8080/"
        },
        "id": "eG3JhJPxHu04",
        "outputId": "6ad08bcb-ad24-498f-f1cb-185f26c548b7"
      },
      "source": [
        "print(np.linalg.det(A*B*C))\n",
        "print(np.linalg.det(A*C*B))\n",
        "print(np.linalg.det(C*B*A))"
      ],
      "execution_count": 15,
      "outputs": [
        {
          "output_type": "stream",
          "text": [
            "-70447.99999999994\n",
            "-70447.99999999994\n",
            "-70447.99999999994\n"
          ],
          "name": "stdout"
        }
      ]
    },
    {
      "cell_type": "code",
      "metadata": {
        "id": "f9M50gZZIl1s"
      },
      "source": [
        "# create the matrix:\n",
        "D = np.matrix([[3, 2, 3],\n",
        "               [-6, 1, -10],\n",
        "               [-8, -9, -9]])\n",
        "\n",
        "E = np.matrix([[1, -2, 1],\n",
        "               [5, 5, 4],\n",
        "               [4, 0, 0]])\n",
        "\n",
        "F = np.matrix([[1, 0, 0],\n",
        "               [0, 2, 0],\n",
        "               [-3, -2, 1]])"
      ],
      "execution_count": 17,
      "outputs": []
    },
    {
      "cell_type": "code",
      "metadata": {
        "colab": {
          "base_uri": "https://localhost:8080/"
        },
        "id": "HpqPNr2ZJLHY",
        "outputId": "ba42210a-662a-4258-b9e6-841294ae4e1c"
      },
      "source": [
        "print(D*E)\n",
        "print(np.linalg.det(D*E))\n",
        "\n",
        "print(E*D)\n",
        "print(np.linalg.det(E*D))"
      ],
      "execution_count": 19,
      "outputs": [
        {
          "output_type": "stream",
          "text": [
            "[[ 25   4  11]\n",
            " [-41  17  -2]\n",
            " [-89 -29 -44]]\n",
            "3067.9999999999973\n",
            "[[  7  -9  14]\n",
            " [-47 -21 -71]\n",
            " [ 12   8  12]]\n",
            "3067.9999999999973\n"
          ],
          "name": "stdout"
        }
      ]
    },
    {
      "cell_type": "code",
      "metadata": {
        "colab": {
          "base_uri": "https://localhost:8080/"
        },
        "id": "arFjsCxCJgYl",
        "outputId": "1b6c129e-0f24-4483-97bf-5578ab7ed926"
      },
      "source": [
        "print(D*F)\n",
        "print(np.linalg.det(D*F))\n",
        "\n",
        "print(F*D)\n",
        "print(np.linalg.det(F*D))"
      ],
      "execution_count": 20,
      "outputs": [
        {
          "output_type": "stream",
          "text": [
            "[[ -6  -2   3]\n",
            " [ 24  22 -10]\n",
            " [ 19   0  -9]]\n",
            "-118.00000000000004\n",
            "[[  3   2   3]\n",
            " [-12   2 -20]\n",
            " [ -5 -17   2]]\n",
            "-118.00000000000004\n"
          ],
          "name": "stdout"
        }
      ]
    },
    {
      "cell_type": "code",
      "metadata": {
        "colab": {
          "base_uri": "https://localhost:8080/"
        },
        "id": "SJ90t6BuJtLj",
        "outputId": "a55b05be-b0cd-4758-a209-b788ef630160"
      },
      "source": [
        "print(E*F)\n",
        "print(np.linalg.det(E*F))\n",
        "\n",
        "print(F*E)\n",
        "print(np.linalg.det(F*E))"
      ],
      "execution_count": 22,
      "outputs": [
        {
          "output_type": "stream",
          "text": [
            "[[-2 -6  1]\n",
            " [-7  2  4]\n",
            " [ 4  0  0]]\n",
            "-103.99999999999999\n",
            "[[  1  -2   1]\n",
            " [ 10  10   8]\n",
            " [ -9  -4 -11]]\n",
            "-104.00000000000007\n"
          ],
          "name": "stdout"
        }
      ]
    },
    {
      "cell_type": "code",
      "metadata": {
        "colab": {
          "base_uri": "https://localhost:8080/"
        },
        "id": "bFoEqoWUKHjg",
        "outputId": "ae807039-8dcb-4140-af71-1d56262e2bd9"
      },
      "source": [
        "print(np.linalg.det(D*E*F))\n",
        "print(np.linalg.det(D*F*E))\n",
        "print(np.linalg.det(F*E*D))"
      ],
      "execution_count": 23,
      "outputs": [
        {
          "output_type": "stream",
          "text": [
            "6135.999999999995\n",
            "6136.000000000006\n",
            "6136.000000000006\n"
          ],
          "name": "stdout"
        }
      ]
    }
  ]
}